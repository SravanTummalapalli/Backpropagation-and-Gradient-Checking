{
 "cells": [
  {
   "cell_type": "markdown",
   "metadata": {
    "id": "y871RZtRhCEH"
   },
   "source": [
    "# <font color='red'>BackPropagation</font>"
   ]
  },
  {
   "cell_type": "markdown",
   "metadata": {
    "id": "LqePYi-4mFvK"
   },
   "source": [
    "**There will be some functions that start with the word \"grader\" ex: grader_sigmoid(), grader_forwardprop(), grader_backprop() etc, you should not change those function definition.<br><br>Every Grader function has to return True.**"
   ]
  },
  {
   "cell_type": "markdown",
   "metadata": {
    "id": "0huUQ0byiI0I"
   },
   "source": [
    "## <font color='red'>Loading data </font>"
   ]
  },
  {
   "cell_type": "code",
   "execution_count": 1,
   "metadata": {
    "colab": {
     "base_uri": "https://localhost:8080/",
     "height": 50
    },
    "id": "1hSje5CBgcUb",
    "outputId": "66535fa5-f8a2-4792-bc62-7842c93480f7"
   },
   "outputs": [
    {
     "name": "stdout",
     "output_type": "stream",
     "text": [
      "(506, 6)\n",
      "(506, 5) (506,)\n"
     ]
    }
   ],
   "source": [
    "import pickle\n",
    "import numpy as np\n",
    "from tqdm import tqdm\n",
    "import matplotlib.pyplot as plt\n",
    "from sklearn.metrics import mean_squared_error\n",
    "\n",
    "with open('data.pkl', 'rb') as f:\n",
    "    data = pickle.load(f)\n",
    "print(data.shape)\n",
    "X = data[:, :5]\n",
    "y = data[:, -1]\n",
    "print(X.shape, y.shape)"
   ]
  },
  {
   "cell_type": "markdown",
   "metadata": {
    "id": "5JL-0soQistC"
   },
   "source": [
    "# <font color='red'>Computational graph</font>"
   ]
  },
  {
   "cell_type": "markdown",
   "metadata": {
    "id": "nREnTTJ3i0Vd"
   },
   "source": [
    "<img src='https://i.imgur.com/seSGbNS.png'>"
   ]
  },
  {
   "cell_type": "markdown",
   "metadata": {
    "id": "DSPX_H_4i_HT"
   },
   "source": [
    "\n",
    "*  **If you observe the graph, we are having input features [f1, f2, f3, f4, f5] and 9 weights [w1, w2, w3, w4, w5, w6,    w7, w8, w9]**.<br><br>\n",
    "*  **The final output of this graph is a value L which is computed as (Y-Y')^2** "
   ]
  },
  {
   "cell_type": "markdown",
   "metadata": {
    "id": "D54eDEv6jkO4"
   },
   "source": [
    "# <font color='red'>Task 1: Implementing backpropagation and Gradient checking </font>"
   ]
  },
  {
   "cell_type": "markdown",
   "metadata": {
    "id": "qocI1Vzqkod9"
   },
   "source": [
    "<font color='blue'><b>Check this video for better understanding of the computational graphs and back propagation</font>"
   ]
  },
  {
   "cell_type": "code",
   "execution_count": 2,
   "metadata": {
    "colab": {
     "base_uri": "https://localhost:8080/",
     "height": 521
    },
    "id": "Wb5WMdwJinlX",
    "outputId": "b10489ec-890a-445a-c6a4-a3e0ea2a66be"
   },
   "outputs": [
    {
     "data": {
      "image/jpeg": "[encoded data removed]",
      "text/html": [
       "\n",
       "        <iframe\n",
       "            width=\"1000\"\n",
       "            height=\"500\"\n",
       "            src=\"https://www.youtube.com/embed/i94OvYb6noo\"\n",
       "            frameborder=\"0\"\n",
       "            allowfullscreen\n",
       "        ></iframe>\n",
       "        "
      ],
      "text/plain": [
       "<IPython.lib.display.YouTubeVideo at 0x22e6f4741d0>"
      ]
     },
     "execution_count": 2,
     "metadata": {},
     "output_type": "execute_result"
    }
   ],
   "source": [
    "from IPython.display import YouTubeVideo\n",
    "YouTubeVideo('i94OvYb6noo',width=\"1000\",height=\"500\")"
   ]
  },
  {
   "cell_type": "markdown",
   "metadata": {
    "id": "2jecTyVRlh-6"
   },
   "source": [
    "\n",
    "*  <b>Write two functions<br>\n",
    "    *  Forward propagation</b>(Write your code in<font color='blue'> def forward_propagation()</b></font>)<br><br>\n",
    "    For easy debugging, we will break the computational graph into 3 parts.\n",
    "\n",
    "    <font color='green'><b>Part 1</b></font></b>\n",
    "    <img src='https://i.imgur.com/0xUaxy6.png'><br><br>\n",
    "    <font color='green'><b>Part 2</b></font></b><br>\n",
    "    <img src='https://i.imgur.com/J29pAJL.png'><br><br>\n",
    "    <font color='green'><b>Part 3</b></font></b>\n",
    "    <img src='https://i.imgur.com/vMyCsd9.png'>\n",
    "\n",
    "    <pre>\n",
    "    <font color='green'>\n",
    "def forward_propagation(X, y, W):\n",
    "        <font color='grey'>\n",
    "        # X: input data point, note that in this assignment you are having 5-d data points\n",
    "        # y: output varible\n",
    "        # W: weight array, its of length 9, W[0] corresponds to w1 in graph, W[1] corresponds to w2 in graph, <br>         ..., W[8] corresponds to w9 in graph.  \n",
    "        # you have to return the following variables\n",
    "        # exp= part1 (compute the forward propagation until exp and then store the values in exp)\n",
    "        # tanh =part2(compute the forward propagation until tanh and then store the values in tanh)\n",
    "        # sig = part3(compute the forward propagation until sigmoid and then store the values in sig)\n",
    "        # now compute remaining values from computional graph and get y'\n",
    "        # write code to compute the value of L=(y-y')^2\n",
    "        # compute derivative of L  w.r.to Y' and store it in dl\n",
    "        # Create a dictionary to store all the intermediate values\n",
    "        # store L, exp,tanh,sig,dl variables\n",
    "        </font>\n",
    "        return (dictionary, which you might need to use for back propagation)\n",
    "        <font color='grey'>\n",
    "        </font>\n",
    "</font>\n",
    "</pre>\n",
    "    *  <b>Backward propagation</b>(Write your code in<font color='blue'> def backward_propagation()</b></font>)\n",
    "    </b>\n",
    "    <pre>\n",
    "    <font color='green'>\n",
    "    def backward_propagation(L, W,dictionary):\n",
    "        <font color='grey'>\n",
    "        # L: the loss we calculated for the current point\n",
    "        # dictionary: the outputs of the forward_propagation() function\n",
    "        # write code to compute the gradients of each weight [w1,w2,w3,...,w9]\n",
    "        # Hint: you can use dict type to store the required variables \n",
    "        # return dW, dW is a dictionary with gradients of all the weights\n",
    "        </font>\n",
    "        return dW\n",
    "        </font>\n",
    "</font>\n",
    "</pre>"
   ]
  },
  {
   "cell_type": "markdown",
   "metadata": {
    "id": "STS4NrQQc6OH"
   },
   "source": [
    " ## <font color='red'>Gradient clipping</font>"
   ]
  },
  {
   "cell_type": "markdown",
   "metadata": {
    "id": "XY7ivRNzdPok"
   },
   "source": [
    "<b> Check this  <a href='https://towardsdatascience.com/how-to-debug-a-neural-network-with-gradient-checking-41deec0357a9'>blog link</a> for more details on Gradient clipping"
   ]
  },
  {
   "cell_type": "markdown",
   "metadata": {
    "id": "BrsfpDoidtZ5"
   },
   "source": [
    " we know that the derivative of any function is\n",
    " \n",
    " $$\\lim_{\\epsilon\\to0}\\frac{f(x+\\epsilon)-f(x-\\epsilon)}{2\\epsilon}$$\n"
   ]
  },
  {
   "cell_type": "markdown",
   "metadata": {
    "id": "vUcmt0kPd02f"
   },
   "source": [
    "*  The definition above can be used as a numerical approximation of the derivative. Taking an epsilon small enough, the calculated approximation will have an error in the range of epsilon squared. \n",
    "\n",
    "*  In other words, if epsilon is 0.001, the approximation will be off by 0.00001.\n",
    "\n",
    "Therefore, we can use this to approximate the gradient, and in turn make sure that backpropagation is implemented properly. This forms the basis of <b>gradient checking!</b>"
   ]
  },
  {
   "cell_type": "markdown",
   "metadata": {
    "id": "pFSu16KCeU0x"
   },
   "source": [
    "## <Font color='blue'>Gradient checking example</font>"
   ]
  },
  {
   "cell_type": "markdown",
   "metadata": {
    "id": "Gz0mmT_xecfC"
   },
   "source": [
    "<font >\n",
    "lets understand the concept with a simple example:\n",
    "$f(w1,w2,x1,x2)=w_{1}^{2} . x_{1} + w_{2} . x_{2}$ \n",
    "\n",
    "from the above function , lets assume $w_{1}=1$, $w_{2}=2$, $x_{1}=3$, $x_{2}=4$ the gradient of $f$ w.r.t $w_{1}$ is\n",
    "\n",
    "\\begin{array} {lcl}\n",
    "\\frac{df}{dw_{1}} = dw_{1} &=&2.w_{1}.x_{1} \\\\& = &2.1.3\\\\& = &6\n",
    "\\end{array}\n",
    "\n",
    "\n",
    "let calculate the aproximate gradient of $w_{1}$ as mentinoned in the above formula and considering $\\epsilon=0.0001$\n",
    "\n",
    "\\begin{array} {lcl}\n",
    "dw_1^{approx} & = & \\frac{f(w1+\\epsilon,w2,x1,x2)-f(w1-\\epsilon,w2,x1,x2)}{2\\epsilon} \\\\ & = & \\frac{((1+0.0001)^{2} . 3 + 2 . 4) - ((1-0.0001)^{2} . 3 + 2 . 4)}{2\\epsilon} \\\\ & = & \\frac{(1.00020001 . 3 + 2 . 4) - (0.99980001. 3 + 2 . 4)}{2*0.0001} \\\\ & = & \\frac{(11.00060003) - (10.99940003)}{0.0002}\\\\ & = & 5.99999999999\n",
    "\\end{array}\n",
    "\n",
    "Then, we apply the following formula for gradient check: <i>gradient_check</i> = \n",
    "$\\frac{\\left\\Vert\\left (dW-dW^{approx}\\rm\\right) \\right\\Vert_2}{\\left\\Vert\\left (dW\\rm\\right) \\right\\Vert_2+\\left\\Vert\\left (dW^{approx}\\rm\\right) \\right\\Vert_2}$\n",
    "\n",
    "The equation above is basically the Euclidean distance normalized by the sum of the norm of the vectors. We use normalization in case that one of the vectors is very small.\n",
    "As a value for epsilon, we usually opt for 1e-7. Therefore, if gradient check return a value less than 1e-7, then it means that backpropagation was implemented correctly. Otherwise, there is potentially a mistake in your implementation. If the value exceeds 1e-3, then you are sure that the code is not correct.\n",
    "\n",
    "in our example: <i>gradient_check</i> $ = \\frac{(6 - 5.999999999994898)}{(6 + 5.999999999994898)} = 4.2514140356330737e^{-13}$\n",
    "\n",
    "you can mathamatically derive the same thing like this\n",
    "\n",
    "\\begin{array} {lcl}\n",
    "dw_1^{approx} & = & \\frac{f(w1+\\epsilon,w2,x1,x2)-f(w1-\\epsilon,w2,x1,x2)}{2\\epsilon} \\\\ & = & \\frac{((w_{1}+\\epsilon)^{2} . x_{1} + w_{2} . x_{2}) - ((w_{1}-\\epsilon)^{2} . x_{1} + w_{2} . x_{2})}{2\\epsilon} \\\\ & = & \\frac{4. \\epsilon.w_{1}. x_{1}}{2\\epsilon} \\\\ & = &  2.w_{1}.x_{1}\n",
    "\\end{array}\n"
   ]
  },
  {
   "cell_type": "markdown",
   "metadata": {
    "id": "f1BFQQaCermK"
   },
   "source": [
    "## <font color='red'> Implement Gradient checking </font> <br>\n",
    " (Write your code in <font color='blue'> def gradient_checking()</font>)"
   ]
  },
  {
   "cell_type": "markdown",
   "metadata": {
    "id": "GqpfA3AqfJba"
   },
   "source": [
    "**Algorithm** \n",
    "\n"
   ]
  },
  {
   "cell_type": "markdown",
   "metadata": {
    "id": "FL39KeRFfNoD"
   },
   "source": [
    "<pre>\n",
    "<font color='darkblue'>\n",
    "W = initilize_randomly\n",
    "def gradient_checking(data_point, W):<font color='grey'>\n",
    "    # compute the L value using forward_propagation()\n",
    "    # compute the gradients of W using backword_propagation()</font>\n",
    "    approx_gradients = []\n",
    "    for each wi weight value in W:<font color='grey'>\n",
    "        # add a small value to weight wi, and then find the values of L with the updated weights\n",
    "        # subtract a small value to weight wi, and then find the values of L with the updated weights\n",
    "        # compute the approximation gradients of weight wi</font>\n",
    "        approx_gradients.append(approximation gradients of weight wi)<font color='grey'>\n",
    "    # compare the gradient of weights W from backword_propagation() with the aproximation gradients of weights with <br>  gradient_check formula</font>\n",
    "    return gradient_check</font>\n",
    "<b>NOTE: you can do sanity check by checking all the return values of gradient_checking(),<br> they have to be zero. if not you have bug in your code\n",
    "</pre></b>"
   ]
  },
  {
   "cell_type": "markdown",
   "metadata": {
    "id": "0ufbFBFfhgL0"
   },
   "source": [
    "# <font color='red'> Task 2 : Optimizers </font>"
   ]
  },
  {
   "cell_type": "markdown",
   "metadata": {
    "id": "7zt05soYh1RM"
   },
   "source": [
    "* As a part of this task, you will be implementing 3 type of optimizers(methods to update weight)\n",
    "* Use the same computational graph that was mentioned above to do this task\n",
    "* Initilze the 9 weights from normal distribution with mean=0 and std=0.01"
   ]
  },
  {
   "cell_type": "markdown",
   "metadata": {
    "id": "CAyi7aSAicbr"
   },
   "source": [
    "**Check below video and <a href='https://cs231n.github.io/neural-networks-3/'>this</a> blog**"
   ]
  },
  {
   "cell_type": "code",
   "execution_count": 3,
   "metadata": {
    "colab": {
     "base_uri": "https://localhost:8080/",
     "height": 521
    },
    "id": "ZogcxiegkQpz",
    "outputId": "9b4e0235-e638-4f20-d9c1-ac3ca4fb3ce8"
   },
   "outputs": [
    {
     "data": {
      "image/jpeg": "[encoded data removed]",
      "text/html": [
       "\n",
       "        <iframe\n",
       "            width=\"1000\"\n",
       "            height=\"500\"\n",
       "            src=\"https://www.youtube.com/embed/gYpoJMlgyXA\"\n",
       "            frameborder=\"0\"\n",
       "            allowfullscreen\n",
       "        ></iframe>\n",
       "        "
      ],
      "text/plain": [
       "<IPython.lib.display.YouTubeVideo at 0x1252719b898>"
      ]
     },
     "execution_count": 3,
     "metadata": {},
     "output_type": "execute_result"
    }
   ],
   "source": [
    "from IPython.display import YouTubeVideo\n",
    "YouTubeVideo('gYpoJMlgyXA',width=\"1000\",height=\"500\")"
   ]
  },
  {
   "cell_type": "markdown",
   "metadata": {
    "id": "jmefh7ktjbaR"
   },
   "source": [
    "<font color='blue'><b>Algorithm</b>"
   ]
  },
  {
   "cell_type": "markdown",
   "metadata": {
    "id": "nAc4NudkjdNa"
   },
   "source": [
    "<pre>\n",
    "    for each epoch(1-100):\n",
    "        for each data point in your data:\n",
    "            using the functions forward_propagation() and backword_propagation() compute the gradients of weights\n",
    "            update the weigts with help of gradients  ex: w1 = w1-learning_rate*dw1\n",
    "</pre>"
   ]
  },
  {
   "cell_type": "markdown",
   "metadata": {
    "id": "_fdmPNqtjm3X"
   },
   "source": [
    "## <font color='red'> Implement below tasks</b>"
   ]
  },
  {
   "cell_type": "markdown",
   "metadata": {
    "id": "Ll9-CRsLjx_D"
   },
   "source": [
    "\n",
    "*  <b>Task 2.1</b>: you will be implementing the above algorithm with <b>Vanilla update</b> of weights<br><br>\n",
    "*  <b>Task 2.2</b>: you will be implementing the above algorithm with <b>Momentum update</b> of weights<br><br>\n",
    "*  <b>Task 2.3</b>: you will be implementing the above algorithm with <b>Adam update</b> of weights\n"
   ]
  },
  {
   "cell_type": "markdown",
   "metadata": {
    "id": "atp082demrUR"
   },
   "source": [
    "**Note : If you get any assertion error while running grader functions, please print the variables in grader functions and check which variable is returning False .Recheck your logic for that variable .**"
   ]
  },
  {
   "cell_type": "markdown",
   "metadata": {
    "id": "phG2WDkjkuIL"
   },
   "source": [
    "<br>\n",
    "<br>\n",
    "<br>"
   ]
  },
  {
   "cell_type": "markdown",
   "metadata": {
    "id": "CBaPzHP63grG"
   },
   "source": [
    "# <font color='red'>Task 1 </font>"
   ]
  },
  {
   "cell_type": "markdown",
   "metadata": {
    "id": "QfmV3FUgSrBo"
   },
   "source": [
    "## <font color='blue'>Forward propagation </font>"
   ]
  },
  {
   "cell_type": "code",
   "execution_count": 2,
   "metadata": {
    "id": "5_pBivcY30qf"
   },
   "outputs": [],
   "source": [
    "def sigmoid(z):\n",
    "    '''In this function, we will compute the sigmoid(z)'''\n",
    "    value=1/(1+np.exp(-z))\n",
    "    return value\n",
    "    \n",
    "def forward_propagation(x, y, w):\n",
    "    dict={}\n",
    "    exp=np.exp((((w[0]*x[0])+(w[1]*x[1]))*((w[0]*x[0])+(w[1]*x[1])))+w[5])\n",
    "    tanh=np.tanh(exp+w[6])\n",
    "    part3=((np.sin(w[2]*x[2]))*((w[3]*x[3])+(w[4]*x[4])))+w[7]\n",
    "    sig=sigmoid(part3)\n",
    "    y_hat=tanh+sig*w[8]\n",
    "    dl=-2*(y-y_hat)\n",
    "    loss=pow(y-(tanh+sig*w[8]), 2) \n",
    "    dict[\"exp\"]=exp\n",
    "    dict['tanh']=tanh\n",
    "    dict[\"sigmoid\"]=sig\n",
    "    dict[\"dl\"]=dl\n",
    "    dict[\"loss\"]=loss\n",
    "    dict[\"y_hat\"]=y_hat\n",
    "    return dict"
   ]
  },
  {
   "cell_type": "markdown",
   "metadata": {
    "id": "z-z1rGKqCHNN"
   },
   "source": [
    "<font color='cyan'>Grader function - 1</font>"
   ]
  },
  {
   "cell_type": "code",
   "execution_count": 3,
   "metadata": {
    "id": "6ZxFF00zBmx1"
   },
   "outputs": [
    {
     "data": {
      "text/plain": [
       "True"
      ]
     },
     "execution_count": 3,
     "metadata": {},
     "output_type": "execute_result"
    }
   ],
   "source": [
    "def grader_sigmoid(z):\n",
    "    val=sigmoid(z)\n",
    "    assert(val==0.8807970779778823)\n",
    "    return True\n",
    "grader_sigmoid(2)"
   ]
  },
  {
   "cell_type": "markdown",
   "metadata": {
    "id": "KgAUXq_aChey"
   },
   "source": [
    "<font color='cyan'>Grader function - 2 </font>"
   ]
  },
  {
   "cell_type": "code",
   "execution_count": 4,
   "metadata": {
    "id": "3uzsUqcjCorN"
   },
   "outputs": [
    {
     "data": {
      "text/plain": [
       "True"
      ]
     },
     "execution_count": 4,
     "metadata": {},
     "output_type": "execute_result"
    }
   ],
   "source": [
    "def grader_forwardprop(data):\n",
    "    dl = (data['dl']==-1.9285278284819143)\n",
    "    loss=(data['loss']==0.9298048963072919)\n",
    "    part1=(data['exp']==1.1272967040973583)\n",
    "    part2=(data['tanh']==0.8417934192562146)\n",
    "    part3=(data['sigmoid']==0.5279179387419721)\n",
    "    assert(dl and loss and part1 and part2 and part3)\n",
    "    return True\n",
    "w=np.ones(9)*0.1\n",
    "d1=forward_propagation(X[0],y[0],w)\n",
    "grader_forwardprop(d1)"
   ]
  },
  {
   "cell_type": "markdown",
   "metadata": {
    "id": "obOaAqj3Sxvb"
   },
   "source": [
    "## <font color='blue'>Backward propagation</font>"
   ]
  },
  {
   "cell_type": "code",
   "execution_count": 5,
   "metadata": {
    "id": "dS49ykcOGhIv"
   },
   "outputs": [],
   "source": [
    "import math\n",
    "def backward_propagation(L,W,dict):\n",
    "    d={}\n",
    "    dw9 = dict[\"dl\"]*dict[\"sigmoid\"]\n",
    "    dw8 = dw9*((1-dict[\"sigmoid\"])*w[8])\n",
    "    dw7 =dict[\"dl\"]* (1- np.square(dict[\"tanh\"]))\n",
    "    dw6 =dw7*dict[\"exp\"]\n",
    "    dw5= dw8*(np.sin(w[2]*L[2]))*L[4]\n",
    "    dw4= dw8*(np.sin(w[2]*L[2]))*L[3]\n",
    "    dw3= dw8*(np.cos(w[2]*L[2]))*L[2]*((w[3]*L[3])+(w[4]*L[4]))\n",
    "    dw2= dw6*(2*(w[0]*L[0] +w[1]*L[1])*L[1])\n",
    "    dw1= dw6*(2*(w[0]*L[0] +w[1]*L[1])*L[0])\n",
    "    \n",
    "    # dw2 = # in dw2 compute derivative of L w.r.to w2\n",
    "    \n",
    "    # dw3 = # in dw3 compute derivative of L w.r.to w3\n",
    "    \n",
    "    # dw4 = # in dw4 compute derivative of L w.r.to w4\n",
    "    \n",
    "    # dw5 = # in dw5 compute derivative of L w.r.to w5\n",
    "    \n",
    "    # dw6 = # in dw6 compute derivative of L w.r.to w6\n",
    "    \n",
    "    # dw7 = # in dw7 compute derivative of L w.r.to w7\n",
    "    \n",
    "    # dw8 = # in dw8 compute derivative of L w.r.to w8\n",
    "    \n",
    "    # dw9 = # in dw9 compute derivative of L w.r.to w9\n",
    "    d['dw1']=dw1\n",
    "    d['dw2']=dw2\n",
    "    d['dw3']=dw3\n",
    "    d['dw4']=dw4\n",
    "    d['dw5']=dw5\n",
    "    d['dw6']=dw6\n",
    "    d['dw7']=dw7\n",
    "    d['dw8']=dw8\n",
    "    d['dw9']=dw9\n",
    "    return d"
   ]
  },
  {
   "cell_type": "markdown",
   "metadata": {
    "id": "2NpZWAVlS4jb"
   },
   "source": [
    "<font color='cyan'>Grader function - 3 </font>"
   ]
  },
  {
   "cell_type": "code",
   "execution_count": 6,
   "metadata": {
    "id": "1a8Kll2xGhMJ"
   },
   "outputs": [
    {
     "data": {
      "text/plain": [
       "True"
      ]
     },
     "execution_count": 6,
     "metadata": {},
     "output_type": "execute_result"
    }
   ],
   "source": [
    "def grader_backprop(data):\n",
    "    dw1=(data['dw1']==-0.22973323498702003)\n",
    "    dw2=(data['dw2']==-0.021407614717752925)\n",
    "    dw3=(data['dw3']==-0.005625405580266319)\n",
    "    dw4=(data['dw4']==-0.004657941222712423)\n",
    "    dw5=(data['dw5']==-0.0010077228498574246)\n",
    "    dw6=(data['dw6']==-0.6334751873437471)\n",
    "    dw7=(data['dw7']==-0.561941842854033)\n",
    "    dw8=(data['dw8']==-0.04806288407316516)\n",
    "    dw9=(data['dw9']==-1.0181044360187037)\n",
    "    assert(dw1 and dw2 and dw3 and dw4 and dw5 and dw6 and dw7 and dw8 and dw9)\n",
    "    return True \n",
    "w=np.ones(9)*0.1\n",
    "d1=forward_propagation(X[0],y[0],w)\n",
    "d1=backward_propagation(X[0],w,d1)\n",
    "grader_backprop(d1)"
   ]
  },
  {
   "cell_type": "markdown",
   "metadata": {
    "id": "1rfHHXZwgwo6"
   },
   "source": [
    "## <font color='blue'> Implement gradient checking</font>"
   ]
  },
  {
   "cell_type": "code",
   "execution_count": 7,
   "metadata": {
    "id": "oh8wj1yjGhOi"
   },
   "outputs": [
    {
     "name": "stdout",
     "output_type": "stream",
     "text": [
      "Gradient from Back Propagation\n"
     ]
    },
    {
     "data": {
      "text/plain": [
       "{'dw1': -0.22973323498702003,\n",
       " 'dw2': -0.021407614717752925,\n",
       " 'dw3': -0.005625405580266319,\n",
       " 'dw4': -0.004657941222712423,\n",
       " 'dw5': -0.0010077228498574246,\n",
       " 'dw6': -0.6334751873437471,\n",
       " 'dw7': -0.561941842854033,\n",
       " 'dw8': -0.04806288407316516,\n",
       " 'dw9': -1.0181044360187037}"
      ]
     },
     "execution_count": 7,
     "metadata": {},
     "output_type": "execute_result"
    }
   ],
   "source": [
    "def gradient_checking(data_point,y, w, epsilon=1e-7):\n",
    "    # compute the L value using forward_propagation()\n",
    "    # compute the gradients of W using backword_propagation()\n",
    "    weight=w\n",
    "    loss=forward_propagation(data_point,y,w)\n",
    "    grad=backward_propagation(data_point,w,loss)\n",
    "    grad_check=[]\n",
    "    approx_gradients = []\n",
    "    for i in range(len(w)):\n",
    "        w = np.ones(9)*0.1\n",
    "        # add a small value to weight wi, and then find the values of L with the updated weights\n",
    "        # subtract a small value to weight wi, and then find the values of L with the updated weights\n",
    "        # compute the approximation gradients of weight wi\n",
    "        w[i]=weight[i]+epsilon\n",
    "        l1=forward_propagation(data_point,y,w)\n",
    "        loss1=l1['loss']\n",
    "        w[i]=weight[i]-epsilon\n",
    "        l2=forward_propagation(data_point,y,w)\n",
    "        loss2=l2[\"loss\"]\n",
    "        aproximation=(loss1-loss2)/(2*epsilon)\n",
    "        approx_gradients.append(aproximation)\n",
    "        numerator = np.linalg.norm(grad[(str(\"dw\")+str(i+1))] - aproximation)\n",
    "        denominator = np.linalg.norm(grad[(str(\"dw\")+str(i+1))]) + np.linalg.norm(aproximation)\n",
    "        difference = numerator / denominator\n",
    "        grad_check.append(difference)\n",
    "    # compare the gradient of weights W from backword_propagation() with the aproximation gradients of weights with gradient_check formula\n",
    "    return grad_check,approx_gradients\n",
    "print(\"Gradient from Back Propagation\")\n",
    "loss=forward_propagation(X[0],y[0],w)\n",
    "backward_propagation(X[0],w,loss)"
   ]
  },
  {
   "cell_type": "code",
   "execution_count": 8,
   "metadata": {},
   "outputs": [
    {
     "name": "stdout",
     "output_type": "stream",
     "text": [
      "Gradient after Checking\n",
      "[-0.22973323521302547, -0.021407614014812282, -0.005625406251930087, -0.004657941254926357, -0.001007723349211176, -0.6334751878611655, -0.561941842502911, -0.048062884228095015, -1.0181044357571167]\n",
      "Difference\n",
      "[4.918866799775059e-10, 1.641800508842975e-08, 5.969913798437536e-08, 3.4579583689222766e-09, 2.477633744353281e-07, 4.083967703487569e-10, 3.124184690307166e-10, 1.6117411221405448e-09, 1.284676527687261e-10]\n"
     ]
    }
   ],
   "source": [
    "diff,aprox_grad=gradient_checking(X[0],y[0], w,epsilon=1e-7)\n",
    "print(\"Gradient after Checking\")\n",
    "print(aprox_grad)\n",
    "print(\"Difference\")\n",
    "print(diff)"
   ]
  },
  {
   "cell_type": "markdown",
   "metadata": {
    "id": "MhwDSe99kJ32"
   },
   "source": [
    "# <font color='red'>Task 2: Optimizers"
   ]
  },
  {
   "cell_type": "markdown",
   "metadata": {
    "id": "jJzI-vnPk1dB"
   },
   "source": [
    "###<font color='blue'>Algorithm with Vanilla update of weights</font>"
   ]
  },
  {
   "cell_type": "code",
   "execution_count": 66,
   "metadata": {
    "id": "xJspU6ZuGhRQ"
   },
   "outputs": [],
   "source": [
    "rate=0.001\n",
    "mu,sigma=0,0.01\n",
    "w=np.random.normal(mu,sigma,9)\n",
    "weight=w\n",
    "loss_vanilla=[]\n",
    "epoch_vanilla=[]\n",
    "for epoch in range(100):\n",
    "    epoch_vanilla.append(epoch)\n",
    "    y_prediction=[]\n",
    "    for i in range(len(data)):\n",
    "        f=forward_propagation(X[i],y[i],w)\n",
    "        y_prediction.append(f['y_hat'])\n",
    "        b=backward_propagation(X[i],w,f)\n",
    "        w[0]=w[0]-rate*b['dw1']\n",
    "        w[1]=w[1]-rate*b['dw2']\n",
    "        w[2]=w[2]-rate*b['dw3']\n",
    "        w[3]=w[3]-rate*b['dw4']\n",
    "        w[4]=w[4]-rate*b['dw5']\n",
    "        w[5]=w[5]-rate*b['dw6']\n",
    "        w[6]=w[6]-rate*b['dw7']\n",
    "        w[7]=w[7]-rate*b['dw8']\n",
    "        w[8]=w[8]-rate*b['dw9']\n",
    "    loss=mean_squared_error(y,y_prediction)\n",
    "    loss_vanilla.append(loss)"
   ]
  },
  {
   "cell_type": "markdown",
   "metadata": {
    "id": "UlTLXrvmlR26"
   },
   "source": [
    "<font color='blue'>Plot between epochs and loss</font>"
   ]
  },
  {
   "cell_type": "code",
   "execution_count": 67,
   "metadata": {},
   "outputs": [
    {
     "data": {
      "text/plain": [
       "<matplotlib.legend.Legend at 0x29dee1fcb00>"
      ]
     },
     "execution_count": 67,
     "metadata": {},
     "output_type": "execute_result"
    },
    {
     "data": {
      "image/png": "[encoded data removed]",
      "text/plain": [
       "<Figure size 576x432 with 1 Axes>"
      ]
     },
     "metadata": {
      "needs_background": "light"
     },
     "output_type": "display_data"
    }
   ],
   "source": [
    "%matplotlib inline\n",
    "plt.figure(figsize=(8,6))\n",
    "plt.plot(epoch_vanilla,loss_vanilla, label=' loss')\n",
    "plt.title(\"epoch vs loss\")\n",
    "plt.xlabel(\"epoch_number\")\n",
    "plt.ylabel(\"loss\")\n",
    "plt.grid()\n",
    "plt.legend()"
   ]
  },
  {
   "cell_type": "markdown",
   "metadata": {
    "id": "cv_hZFWalS2z"
   },
   "source": [
    "###<font color='blue'>Algorithm with Momentum update of weights</font>"
   ]
  },
  {
   "cell_type": "code",
   "execution_count": 62,
   "metadata": {},
   "outputs": [],
   "source": [
    "m=np.zeros(9)\n",
    "b=0.9\n",
    "w = np.random.normal(mu, sigma, 9)"
   ]
  },
  {
   "cell_type": "code",
   "execution_count": 63,
   "metadata": {},
   "outputs": [],
   "source": [
    "loss_momentum=[]\n",
    "epoc_momentum=[]\n",
    "for epoch in range(100):\n",
    "    epoc_momentum.append(epoch)\n",
    "    y_pred=[]\n",
    "    for i in range(len(data)):\n",
    "        forward=forward_propagation(X[i], y[i], w)\n",
    "        y_pred.append(forward['y_hat'])\n",
    "        backward=backward_propagation(X[i],w,forward)\n",
    "        m[0]=b*m[0]+(1-b)*backward[\"dw1\"]\n",
    "        w[0]=w[0]-rate*m[0]\n",
    "    \n",
    "        m[1]=b*m[1]+(1-b)*backward[\"dw2\"]\n",
    "        w[1]=w[1]-rate*m[1]\n",
    "    \n",
    "        m[2]=b*m[2]+(1-b)*backward[\"dw3\"]\n",
    "        w[2]=w[2]-rate*m[2]\n",
    "    \n",
    "        m[3]=b*m[3]+(1-b)*backward[\"dw4\"]\n",
    "        w[3]=w[3]-rate*m[3]\n",
    "    \n",
    "        m[4]=b*m[4]+(1-b)*backward[\"dw5\"]\n",
    "        w[4]=w[4]-rate*m[4]\n",
    "    \n",
    "        m[5]=b*m[5]+(1-b)*backward[\"dw6\"]\n",
    "        w[5]=w[5]-rate*m[5]\n",
    "    \n",
    "        m[6]=b*m[6]+(1-b)*backward[\"dw7\"]\n",
    "        w[6]=w[6]-rate*m[6]\n",
    "    \n",
    "        m[7]=b*m[7]+(1-b)*backward[\"dw8\"]\n",
    "        w[7]=w[7]-rate*m[7]\n",
    "    \n",
    "        m[8]=b*m[8]+(1-b)*backward[\"dw9\"]\n",
    "        w[8]=w[8]-rate*m[8]\n",
    "    loss=mean_squared_error(y,y_pred) \n",
    "    loss_momentum.append(loss)"
   ]
  },
  {
   "cell_type": "markdown",
   "metadata": {
    "id": "Ow20azfKlVhn"
   },
   "source": [
    "<font color='blue'>Plot between epochs and loss</font>"
   ]
  },
  {
   "cell_type": "code",
   "execution_count": 64,
   "metadata": {
    "id": "u-m90Sq_Ghce"
   },
   "outputs": [
    {
     "data": {
      "text/plain": [
       "<matplotlib.legend.Legend at 0x29dee11cb70>"
      ]
     },
     "execution_count": 64,
     "metadata": {},
     "output_type": "execute_result"
    },
    {
     "data": {
      "image/png": "[encoded data removed]",
      "text/plain": [
       "<Figure size 576x432 with 1 Axes>"
      ]
     },
     "metadata": {
      "needs_background": "light"
     },
     "output_type": "display_data"
    }
   ],
   "source": [
    "%matplotlib inline\n",
    "plt.figure(figsize=(8,6))\n",
    "plt.plot(epoch_momentum,loss_momentum, label=' loss')\n",
    "plt.title(\"epoch vs loss\")\n",
    "plt.xlabel(\"epoch_number\")\n",
    "plt.ylabel(\"loss\")\n",
    "plt.grid()\n",
    "plt.legend()"
   ]
  },
  {
   "cell_type": "markdown",
   "metadata": {
    "id": "V4RWWrZ7lWap"
   },
   "source": [
    "###<font color='blue'>Algorithm with Adam update of weights</font>"
   ]
  },
  {
   "cell_type": "code",
   "execution_count": 72,
   "metadata": {},
   "outputs": [],
   "source": [
    "g=np.zeros(9)\n",
    "a=0.9\n",
    "c=0.999\n",
    "z=1e-8\n",
    "w = np.random.normal(mu, sigma, 9)"
   ]
  },
  {
   "cell_type": "code",
   "execution_count": 73,
   "metadata": {},
   "outputs": [],
   "source": [
    "loss_adam=[]\n",
    "epoch_adam=[]\n",
    "for epoch in range(100):\n",
    "    epoch_adam.append(epoch)\n",
    "    y_pred=[]\n",
    "    for i in range(len(data)):\n",
    "        forward=forward_propagation(X[i], y[i], w)\n",
    "        y_pred.append(forward['y_hat'])\n",
    "        backward=backward_propagation(X[i],w,forward)\n",
    "        m[0]=a*m[0]+(1-a)*backward[\"dw1\"]\n",
    "        mt=m[0]/(1-a)\n",
    "        g[0]=c*g[0]+(1-c)*math.pow(backward[\"dw1\"],2)\n",
    "        vt=g[0]/(1-c)\n",
    "        w[0]=w[0]-(rate/(math.sqrt(vt)+z))*mt\n",
    "        \n",
    "        m[1]=a*m[1]+(1-a)*backward[\"dw2\"]\n",
    "        mt=m[1]/(1-a)\n",
    "        g[1]=c*g[1]+(1-c)*math.pow(backward[\"dw2\"],2)\n",
    "        vt=g[1]/(1-c)\n",
    "        w[1]=w[1]-(rate/(math.sqrt(vt)+z))*mt\n",
    "        \n",
    "        m[2]=a*m[2]+(1-a)*backward[\"dw3\"]\n",
    "        mt=m[2]/(1-a)\n",
    "        g[2]=c*g[2]+(1-c)*math.pow(backward[\"dw3\"],2)\n",
    "        vt=g[2]/(1-c)\n",
    "        w[2]=w[2]-(rate/(math.sqrt(vt)+z))*mt\n",
    "        \n",
    "        m[3]=a*m[3]+(1-a)*backward[\"dw4\"]\n",
    "        mt=m[3]/(1-a)\n",
    "        g[3]=c*g[3]+(1-c)*math.pow(backward[\"dw4\"],2)\n",
    "        vt=g[3]/(1-c)\n",
    "        w[3]=w[3]-(rate/(math.sqrt(vt)+z))*mt\n",
    "        \n",
    "        m[4]=a*m[4]+(1-a)*backward[\"dw5\"]\n",
    "        mt=m[4]/(1-a)\n",
    "        g[4]=c*g[4]+(1-c)*math.pow(backward[\"dw5\"],2)\n",
    "        vt=g[4]/(1-c)\n",
    "        w[4]=w[4]-(rate/(math.sqrt(vt)+z))*mt\n",
    "        \n",
    "        m[5]=a*m[5]+(1-a)*backward[\"dw6\"]\n",
    "        mt=m[5]/(1-a)\n",
    "        g[5]=c*g[5]+(1-c)*math.pow(backward[\"dw6\"],2)\n",
    "        vt=g[5]/(1-c)\n",
    "        w[5]=w[5]-(rate/(math.sqrt(vt)+z))*mt\n",
    "        \n",
    "        m[6]=a*m[6]+(1-a)*backward[\"dw7\"]\n",
    "        mt=m[6]/(1-a)\n",
    "        g[6]=c*g[6]+(1-c)*math.pow(backward[\"dw7\"],2)\n",
    "        vt=g[6]/(1-c)\n",
    "        w[6]=w[6]-(rate/(math.sqrt(vt)+z))*mt\n",
    "        \n",
    "        m[7]=a*m[7]+(1-a)*backward[\"dw8\"]\n",
    "        mt=m[7]/(1-a)\n",
    "        g[7]=c*g[7]+(1-c)*math.pow(backward[\"dw8\"],2)\n",
    "        vt=g[7]/(1-c)\n",
    "        w[7]=w[7]-(rate/(math.sqrt(vt)+z))*mt\n",
    "        \n",
    "        m[8]=a*m[8]+(1-a)*backward[\"dw9\"]\n",
    "        mt=m[8]/(1-a)\n",
    "        g[8]=c*g[8]+(1-c)*math.pow(backward[\"dw9\"],2)\n",
    "        vt=g[8]/(1-c)\n",
    "        w[8]=w[8]-(rate/(math.sqrt(vt)+z))*mt\n",
    "    loss=mean_squared_error(y,y_pred)\n",
    "    loss_adam.append(loss)"
   ]
  },
  {
   "cell_type": "markdown",
   "metadata": {
    "id": "MMy0nBw-lXml"
   },
   "source": [
    "<font color='blue'>Plot between epochs and loss</font>"
   ]
  },
  {
   "cell_type": "code",
   "execution_count": 74,
   "metadata": {
    "id": "aiFRk_uFlm2V"
   },
   "outputs": [
    {
     "data": {
      "text/plain": [
       "<matplotlib.legend.Legend at 0x29dee34ef28>"
      ]
     },
     "execution_count": 74,
     "metadata": {},
     "output_type": "execute_result"
    },
    {
     "data": {
      "image/png": "[encoded data removed]",
      "text/plain": [
       "<Figure size 576x432 with 1 Axes>"
      ]
     },
     "metadata": {
      "needs_background": "light"
     },
     "output_type": "display_data"
    }
   ],
   "source": [
    "%matplotlib inline\n",
    "import matplotlib.pyplot as plt\n",
    "plt.figure(figsize=(8,6))\n",
    "plt.grid()\n",
    "plt.plot(epoch_adam,loss_adam, label=' loss')\n",
    "plt.title(\"epoch vs loss\")\n",
    "plt.xlabel(\"epoch_number\")\n",
    "plt.ylabel(\"loss\")\n",
    "plt.legend()"
   ]
  },
  {
   "cell_type": "markdown",
   "metadata": {
    "id": "7627cy8YlnYO"
   },
   "source": [
    "<font color='blue'>Comparision plot between epochs and loss with different optimizers</font>"
   ]
  },
  {
   "cell_type": "code",
   "execution_count": 75,
   "metadata": {
    "id": "scleSfIXl_bC"
   },
   "outputs": [
    {
     "data": {
      "text/plain": [
       "<matplotlib.legend.Legend at 0x29dee3c4978>"
      ]
     },
     "execution_count": 75,
     "metadata": {},
     "output_type": "execute_result"
    },
    {
     "data": {
      "image/png": "[encoded data removed]",
      "text/plain": [
       "<Figure size 576x432 with 1 Axes>"
      ]
     },
     "metadata": {
      "needs_background": "light"
     },
     "output_type": "display_data"
    }
   ],
   "source": [
    "%matplotlib inline\n",
    "import matplotlib.pyplot as plt\n",
    "plt.figure(figsize=(8,6))\n",
    "plt.grid()\n",
    "plt.plot(epoc_adam,loss_adam, label=' adam update')\n",
    "plt.plot(epoch_vanilla,loss_vanilla, label=' vanilla update')\n",
    "plt.plot(epoch_momentum,loss_momentum, label=' momentum')\n",
    "plt.xlabel(\"epoch_number\")\n",
    "plt.ylabel(\"loss\")\n",
    "plt.legend()"
   ]
  },
  {
   "cell_type": "code",
   "execution_count": null,
   "metadata": {},
   "outputs": [],
   "source": []
  }
 ],
 "metadata": {
  "colab": {
   "collapsed_sections": [],
   "name": "Backpropagation_assignment.ipynb",
   "provenance": []
  },
  "kernelspec": {
   "display_name": "Python 3",
   "language": "python",
   "name": "python3"
  },
  "language_info": {
   "codemirror_mode": {
    "name": "ipython",
    "version": 3
   },
   "file_extension": ".py",
   "mimetype": "text/x-python",
   "name": "python",
   "nbconvert_exporter": "python",
   "pygments_lexer": "ipython3",
   "version": "3.6.5"
  }
 },
 "nbformat": 4,
 "nbformat_minor": 1
}
